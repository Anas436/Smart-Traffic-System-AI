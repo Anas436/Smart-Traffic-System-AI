{
  "cells": [
    {
      "cell_type": "code",
      "execution_count": 1,
      "metadata": {
        "colab": {
          "base_uri": "https://localhost:8080/",
          "height": 249
        },
        "id": "rY17hm120nZg",
        "outputId": "e7cc066a-e792-4fdd-a5b6-adc9d612af38"
      },
      "outputs": [],
      "source": [
        "import pandas as pd\n",
        "import json\n",
        "import matplotlib.pyplot as plt\n",
        "import numpy as np\n",
        "from sklearn.linear_model import LinearRegression\n",
        "from sklearn.metrics import mean_squared_error\n",
        "from sklearn.model_selection import train_test_split\n",
        "\n",
        "with open(\"tomtom-traffic-data.json\", 'r') as file:\n",
        "  try:\n",
        "    data = json.load(file)\n",
        "  except json.JSONDecodeError:\n",
        "    print(\"Cannot work here\")\n",
        "\n",
        "\n",
        "df_segment_results = pd.json_normalize(data['network']['segmentResults'],\n",
        "                                        record_path='segmentTimeResults',\n",
        "                                        meta=['segmentId', 'newSegmentId', 'speedLimit', 'frc', 'streetName', 'distance','latitude','longitude'],errors='ignore')\n",
        "\n",
        "df_segment_results = df_segment_results[['harmonicAverageSpeed','standardDeviationSpeed','averageSpeed','averageTravelTime','speedLimit','streetName','distance','frc','latitude','longitude']]\n",
        "# print(df_segment_results)"
      ]
    },
    {
      "cell_type": "code",
      "execution_count": 2,
      "metadata": {
        "id": "9AnSomI80pZc"
      },
      "outputs": [],
      "source": [
        "df_segment_results['distance'] = df_segment_results['distance'].astype(float)\n",
        "df_segment_results['speedLimit'] = df_segment_results['speedLimit'].astype(float)\n",
        "df_segment_results['frc'] = df_segment_results['frc'].astype(float)"
      ]
    },
    {
      "cell_type": "code",
      "execution_count": 3,
      "metadata": {
        "id": "gEywYJvg0p-c"
      },
      "outputs": [
        {
          "name": "stdout",
          "output_type": "stream",
          "text": [
            "   harmonicAverageSpeed  standardDeviationSpeed  averageSpeed  \\\n",
            "0                 31.33                   10.12         35.08   \n",
            "1                 18.57                    8.61         22.01   \n",
            "2                 16.88                    6.11         19.05   \n",
            "3                 12.41                    7.37         16.51   \n",
            "4                 28.87                    7.61         31.01   \n",
            "\n",
            "   averageTravelTime  speedLimit              streetName  distance  frc  \\\n",
            "0              11.93        50.0    Jalan Mohammad Saidi    103.80  4.0   \n",
            "1              19.59        50.0      Jalan Ulujami Raya    101.07  3.0   \n",
            "2              10.40        50.0  Jalan Peninggaran Raya     48.75  5.0   \n",
            "3              10.25        50.0  Jalan Peninggaran Raya     35.32  5.0   \n",
            "4              12.72        50.0    Jalan Mohammad Saidi    102.05  4.0   \n",
            "\n",
            "  latitude longitude       date  \n",
            "0      NaN       NaN 2023-10-01  \n",
            "1      NaN       NaN 2023-10-01  \n",
            "2      NaN       NaN 2023-10-01  \n",
            "3      NaN       NaN 2023-10-01  \n",
            "4      NaN       NaN 2023-10-01  \n"
          ]
        }
      ],
      "source": [
        "days_distribution = [845] * 29 + [837] * 1 + [836]\n",
        "dates = []\n",
        "\n",
        "for day, record_count in enumerate(days_distribution, 1):\n",
        "    for _ in range(record_count):\n",
        "        dates.append(pd.Timestamp(f\"2023-10-{day:02}\"))\n",
        "\n",
        "df_segment_results['date'] = dates\n",
        "\n",
        "# To save the dataframe back to CSV or any other format, use:\n",
        "# df.to_csv('filename.csv', index=False)\n",
        "\n",
        "print(df_segment_results.head())"
      ]
    },
    {
      "cell_type": "code",
      "execution_count": 4,
      "metadata": {
        "id": "nsPqWz5H0ryy"
      },
      "outputs": [],
      "source": [
        "df_segment_results['date'] = pd.to_datetime(df_segment_results['date'])\n",
        "\n",
        "# Create 'day_of_week' and 'is_weekend' columns\n",
        "df_segment_results['day_of_week'] = df_segment_results['date'].dt.dayofweek\n",
        "df_segment_results['is_weekend'] = df_segment_results['day_of_week'].isin([5,6]).astype(int)\n",
        "\n",
        "# Set the 'date' column as the index and sort the DataFrame based on this index\n",
        "df_segment_results = df_segment_results.set_index('date')\n",
        "df_segment_results = df_segment_results.sort_index()"
      ]
    },
    {
      "cell_type": "code",
      "execution_count": 5,
      "metadata": {
        "id": "7-_RZBDItNJw"
      },
      "outputs": [],
      "source": [
        "# Sorting by average speed and travel time\n",
        "top_15_roads = df_segment_results.sort_values(by=['averageSpeed', 'averageTravelTime'], ascending=[False, True]).head(15)\n",
        "worst_15_roads = df_segment_results.sort_values(by=['averageSpeed', 'averageTravelTime']).head(15)"
      ]
    },
    {
      "cell_type": "code",
      "execution_count": 6,
      "metadata": {
        "id": "W40bP4Wo0vGs"
      },
      "outputs": [
        {
          "name": "stdout",
          "output_type": "stream",
          "text": [
            "RMSE: 2.007033777027117\n"
          ]
        },
        {
          "name": "stderr",
          "output_type": "stream",
          "text": [
            "C:\\Users\\louis\\AppData\\Local\\Temp\\ipykernel_5396\\869602588.py:6: SettingWithCopyWarning: \n",
            "A value is trying to be set on a copy of a slice from a DataFrame\n",
            "\n",
            "See the caveats in the documentation: https://pandas.pydata.org/pandas-docs/stable/user_guide/indexing.html#returning-a-view-versus-a-copy\n",
            "  X_train['standardDeviationSpeed'].fillna(X_train['standardDeviationSpeed'].mean(), inplace=True)\n"
          ]
        }
      ],
      "source": [
        "train, test = train_test_split(df_segment_results, test_size=0.2, shuffle=False)\n",
        "X_train = train[['harmonicAverageSpeed', 'standardDeviationSpeed', 'averageTravelTime', 'speedLimit', 'distance', 'frc', 'day_of_week', 'is_weekend']]\n",
        "y_train = train['averageSpeed']\n",
        "X_test = test[['harmonicAverageSpeed', 'standardDeviationSpeed', 'averageTravelTime', 'speedLimit', 'distance', 'frc', 'day_of_week', 'is_weekend']]\n",
        "y_test = test['averageSpeed']\n",
        "X_train['standardDeviationSpeed'].fillna(X_train['standardDeviationSpeed'].mean(), inplace=True)\n",
        "# Training\n",
        "model = LinearRegression()\n",
        "model.fit(X_train, y_train)\n",
        "# Prediction\n",
        "predictions = model.predict(X_test)\n",
        "# Evaluation\n",
        "rmse = mean_squared_error(y_test, predictions, squared=False)\n",
        "print(f\"RMSE: {rmse}\")\n",
        "\n",
        "n_forecast = 30  # 30 days\n",
        "X_forecast = X_test.iloc[-n_forecast:].copy()\n",
        "y_forecast = model.predict(X_forecast)\n",
        "\n"
      ]
    },
    {
      "cell_type": "code",
      "execution_count": 7,
      "metadata": {
        "id": "FRO0WVCltTyb"
      },
      "outputs": [
        {
          "name": "stdout",
          "output_type": "stream",
          "text": [
            "Predicted Average Speed: [41.81014759]\n",
            "Predicted Average Travel Time: [1.39]\n"
          ]
        }
      ],
      "source": [
        "\n",
        "y_train_time = train['averageTravelTime']\n",
        "y_test_time = test['averageTravelTime']\n",
        "# Training for averageTravelTime\n",
        "model_time = LinearRegression()\n",
        "model_time.fit(X_train, y_train_time)\n",
        "\n",
        "predictions_time = model_time.predict(X_test)\n",
        "def predict_single_values(features, model_speed, model_time):\n",
        "    speed = model_speed.predict(features)\n",
        "    time = model_time.predict(features)\n",
        "    return speed, time\n",
        "\n",
        "# Example:\n",
        "selected_road_features = X_test.iloc[1000].to_frame().T\n",
        "predicted_speed, predicted_time = predict_single_values(selected_road_features, model, model_time)\n",
        "print(\"Predicted Average Speed:\", predicted_speed)\n",
        "print(\"Predicted Average Travel Time:\", predicted_time)\n"
      ]
    },
    {
      "cell_type": "code",
      "execution_count": 8,
      "metadata": {
        "id": "oIFFQr7SxAWl"
      },
      "outputs": [
        {
          "ename": "NameError",
          "evalue": "name 'top_15_test' is not defined",
          "output_type": "error",
          "traceback": [
            "\u001b[1;31m---------------------------------------------------------------------------\u001b[0m",
            "\u001b[1;31mNameError\u001b[0m                                 Traceback (most recent call last)",
            "Cell \u001b[1;32mIn[8], line 1\u001b[0m\n\u001b[1;32m----> 1\u001b[0m X_top_15 \u001b[39m=\u001b[39m top_15_test[[\u001b[39m'\u001b[39m\u001b[39mharmonicAverageSpeed\u001b[39m\u001b[39m'\u001b[39m, \u001b[39m'\u001b[39m\u001b[39mstandardDeviationSpeed\u001b[39m\u001b[39m'\u001b[39m, \u001b[39m'\u001b[39m\u001b[39maverageTravelTime\u001b[39m\u001b[39m'\u001b[39m, \u001b[39m'\u001b[39m\u001b[39mspeedLimit\u001b[39m\u001b[39m'\u001b[39m, \u001b[39m'\u001b[39m\u001b[39mdistance\u001b[39m\u001b[39m'\u001b[39m, \u001b[39m'\u001b[39m\u001b[39mfrc\u001b[39m\u001b[39m'\u001b[39m, \u001b[39m'\u001b[39m\u001b[39mday_of_week\u001b[39m\u001b[39m'\u001b[39m, \u001b[39m'\u001b[39m\u001b[39mis_weekend\u001b[39m\u001b[39m'\u001b[39m]]\n\u001b[0;32m      2\u001b[0m y_top_15_true \u001b[39m=\u001b[39m top_15_test[\u001b[39m'\u001b[39m\u001b[39maverageSpeed\u001b[39m\u001b[39m'\u001b[39m]\n\u001b[0;32m      4\u001b[0m \u001b[39m# Forecast for top 15 roads\u001b[39;00m\n",
            "\u001b[1;31mNameError\u001b[0m: name 'top_15_test' is not defined"
          ]
        }
      ],
      "source": [
        "X_top_15 = top_15_test[['harmonicAverageSpeed', 'standardDeviationSpeed', 'averageTravelTime', 'speedLimit', 'distance', 'frc', 'day_of_week', 'is_weekend']]\n",
        "y_top_15_true = top_15_test['averageSpeed']\n",
        "\n",
        "# Forecast for top 15 roads\n",
        "predictions_top_15 = model.predict(X_top_15)\n",
        "\n",
        "# Saving the results in a DataFrame\n",
        "forecast_top_15 = top_15_test[['streetName', 'latitude', 'longitude']].copy()\n",
        "forecast_top_15['PredictedAverageSpeed'] = predictions_top_15\n"
      ]
    },
    {
      "cell_type": "code",
      "execution_count": null,
      "metadata": {
        "id": "2UeB3e8RxAPX"
      },
      "outputs": [],
      "source": []
    },
    {
      "cell_type": "code",
      "execution_count": null,
      "metadata": {
        "id": "stXlsTcOxAHv"
      },
      "outputs": [],
      "source": []
    },
    {
      "cell_type": "code",
      "execution_count": null,
      "metadata": {
        "id": "Zfyf2XKLvGuF"
      },
      "outputs": [],
      "source": [
        "predictions_time = model_time.predict(X_test)"
      ]
    },
    {
      "cell_type": "code",
      "execution_count": null,
      "metadata": {
        "id": "wQE7Q43n0y9x"
      },
      "outputs": [],
      "source": [
        "n_forecast = 7\n",
        "X_forecast = X_test.iloc[-n_forecast:].copy()\n",
        "y_forecast = model.predict(X_forecast)\n",
        "plt.figure(figsize=(15, 6))\n",
        "plt.plot(y_test.index, y_test.values, label='Actual Values')\n",
        "plt.plot(y_test.index, predictions, label='Predicted Values')\n",
        "forecast_dates = pd.date_range(y_test.index[-1], periods=n_forecast+1, closed='right')\n",
        "plt.plot(forecast_dates, y_forecast, label='Forecast', linestyle='dashed')\n",
        "plt.legend()\n",
        "plt.title(\"Linear Regression Forecast\")\n",
        "plt.xlabel(\"Date\")\n",
        "plt.ylabel(\"Average Travel Time\")\n",
        "plt.tight_layout()\n",
        "plt.grid(True)\n",
        "plt.show()\n"
      ]
    },
    {
      "cell_type": "code",
      "execution_count": null,
      "metadata": {
        "id": "fzNLsfw-00lK"
      },
      "outputs": [],
      "source": [
        "from sklearn.ensemble import RandomForestRegressor\n",
        "\n",
        "# One-hot encode streetName\n",
        "df_segment_results_encoded = pd.get_dummies(df_segment_results, columns=['streetName'])\n",
        "\n",
        "\n",
        "train, test = train_test_split(df_segment_results_encoded, test_size=0.2, shuffle=False)\n",
        "X_train = train.drop('averageSpeed', axis=1)\n",
        "y_train = train['averageSpeed']\n",
        "X_test = test.drop('averageSpeed', axis=1)\n",
        "y_test = test['averageSpeed']\n",
        "\n",
        "# Handle missing values in training data\n",
        "X_train['standardDeviationSpeed'].fillna(X_train['standardDeviationSpeed'].mean(), inplace=True)\n",
        "\n",
        "# Ensure test data has the same columns as training data after one-hot encoding\n",
        "missing_cols = set(X_train.columns) - set(X_test.columns)\n",
        "for c in missing_cols:\n",
        "    X_test[c] = 0\n",
        "X_test = X_test[X_train.columns]  # reorder columns to match the training set\n",
        "\n",
        "# Train Random Forest model\n",
        "model_rf = RandomForestRegressor(n_estimators=100, random_state=42)\n",
        "model_rf.fit(X_train, y_train)\n",
        "\n",
        "# Predict\n",
        "y_pred_rf = model_rf.predict(X_test)"
      ]
    },
    {
      "cell_type": "code",
      "execution_count": null,
      "metadata": {
        "id": "G9KnzGQN01fT"
      },
      "outputs": [],
      "source": [
        "rmse = mean_squared_error(y_test, y_pred_rf, squared=False)\n",
        "print(f\"RMSE: {rmse}\")"
      ]
    },
    {
      "cell_type": "code",
      "execution_count": null,
      "metadata": {
        "id": "_Zsrdso201Uh"
      },
      "outputs": [],
      "source": [
        "# Plotting\n",
        "plt.figure(figsize=(15, 6))\n",
        "plt.plot(y_test.index, y_test.values, label='Actual Values')\n",
        "plt.plot(y_test.index, y_pred_rf, label='Predicted Values')\n",
        "plt.legend()\n",
        "plt.title(\"Random Forest Forecast\")\n",
        "plt.xlabel(\"Date\")\n",
        "plt.ylabel(\"Average Travel Time\")\n",
        "plt.tight_layout()\n",
        "plt.grid(True)\n",
        "plt.show()\n"
      ]
    },
    {
      "cell_type": "code",
      "execution_count": null,
      "metadata": {
        "id": "DhGyWih_01KP"
      },
      "outputs": [],
      "source": [
        "# doesnt work well\n",
        "from statsmodels.tsa.arima.model import ARIMA\n",
        "\n",
        "time_series = df_segment_results['averageSpeed']\n",
        "train_ts, test_ts = train_test_split(time_series, test_size=0.2, shuffle=False)\n",
        "\n",
        "\n",
        "model_arima = ARIMA(train_ts, order=(5,1,0))\n",
        "model_arima_fit = model_arima.fit()\n",
        "\n",
        "# Predict\n",
        "y_pred_arima = model_arima_fit.forecast(steps=len(test_ts))\n",
        "\n",
        "# Forecast\n",
        "y_forecast_arima = model_arima_fit.forecast(steps=len(test_ts)+n_forecast)[-n_forecast:]\n",
        "\n",
        "# Plotting\n",
        "plt.figure(figsize=(15, 6))\n",
        "plt.plot(test_ts.index, test_ts.values, label='Actual Values')\n",
        "plt.plot(test_ts.index, y_pred_arima, label='Predicted Values')\n",
        "plt.plot(forecast_dates, y_forecast_arima, label='Forecast', linestyle='dashed')\n",
        "plt.legend()\n",
        "plt.title(\"ARIMA Forecast\")\n",
        "plt.xlabel(\"Date\")\n",
        "plt.ylabel(\"Average Travel Time\")\n",
        "plt.tight_layout()\n",
        "plt.grid(True)\n",
        "plt.show()\n"
      ]
    }
  ],
  "metadata": {
    "colab": {
      "provenance": []
    },
    "kernelspec": {
      "display_name": "Python 3",
      "name": "python3"
    },
    "language_info": {
      "codemirror_mode": {
        "name": "ipython",
        "version": 3
      },
      "file_extension": ".py",
      "mimetype": "text/x-python",
      "name": "python",
      "nbconvert_exporter": "python",
      "pygments_lexer": "ipython3",
      "version": "3.11.4"
    }
  },
  "nbformat": 4,
  "nbformat_minor": 0
}
